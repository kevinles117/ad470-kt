{
 "cells": [
  {
   "cell_type": "markdown",
   "metadata": {},
   "source": [
    "![title](kctdeploylogos.jpg)"
   ]
  },
  {
   "cell_type": "markdown",
   "metadata": {},
   "source": [
    "# DEPLOY  TEAM  KGT"
   ]
  },
  {
   "cell_type": "markdown",
   "metadata": {},
   "source": [
    "## Team Kevin, Thomas and Captain"
   ]
  },
  {
   "cell_type": "markdown",
   "metadata": {},
   "source": [
    "## Kickstater Precict for Notebook, Flask and Docker Deploy "
   ]
  },
  {
   "cell_type": "markdown",
   "metadata": {},
   "source": [
    "## STEP IMPORTS"
   ]
  },
  {
   "cell_type": "code",
   "execution_count": 46,
   "metadata": {},
   "outputs": [],
   "source": [
    "import os\n",
    "import pandas as pd\n",
    "import numpy as np\n",
    "import zipfile\n",
    "import time\n",
    "import matplotlib.pyplot as plt\n",
    "import re\n",
    "import seaborn as sns\n",
    "\n",
    "%matplotlib inline"
   ]
  },
  {
   "cell_type": "markdown",
   "metadata": {},
   "source": [
    "## LOAD"
   ]
  },
  {
   "cell_type": "code",
   "execution_count": 47,
   "metadata": {},
   "outputs": [],
   "source": [
    "# THIS COMBINE FROM 2020 DATA\n",
    "df = pd.read_csv('./data/kctkick2020combine.csv')"
   ]
  },
  {
   "cell_type": "markdown",
   "metadata": {},
   "source": [
    "## CLEANING\n"
   ]
  },
  {
   "cell_type": "code",
   "execution_count": 48,
   "metadata": {},
   "outputs": [
    {
     "name": "stdout",
     "output_type": "stream",
     "text": [
      "<class 'pandas.core.frame.DataFrame'>\n",
      "RangeIndex: 204681 entries, 0 to 204680\n",
      "Data columns (total 38 columns):\n",
      " #   Column                    Non-Null Count   Dtype \n",
      "---  ------                    --------------   ----- \n",
      " 0   backers_count             204681 non-null  object\n",
      " 1   blurb                     204673 non-null  object\n",
      " 2   category                  204680 non-null  object\n",
      " 3   converted_pledged_amount  204680 non-null  object\n",
      " 4   country                   204680 non-null  object\n",
      " 5   country_displayable_name  204680 non-null  object\n",
      " 6   created_at                204680 non-null  object\n",
      " 7   creator                   204680 non-null  object\n",
      " 8   currency                  204680 non-null  object\n",
      " 9   currency_symbol           204680 non-null  object\n",
      " 10  currency_trailing_code    204680 non-null  object\n",
      " 11  current_currency          204680 non-null  object\n",
      " 12  deadline                  204680 non-null  object\n",
      " 13  disable_communication     204680 non-null  object\n",
      " 14  friends                   211 non-null     object\n",
      " 15  fx_rate                   204680 non-null  object\n",
      " 16  goal                      204680 non-null  object\n",
      " 17  id                        204680 non-null  object\n",
      " 18  is_backing                211 non-null     object\n",
      " 19  is_starrable              204680 non-null  object\n",
      " 20  is_starred                211 non-null     object\n",
      " 21  launched_at               204680 non-null  object\n",
      " 22  location                  204491 non-null  object\n",
      " 23  name                      204680 non-null  object\n",
      " 24  permissions               211 non-null     object\n",
      " 25  photo                     204680 non-null  object\n",
      " 26  pledged                   204680 non-null  object\n",
      " 27  profile                   204680 non-null  object\n",
      " 28  slug                      204680 non-null  object\n",
      " 29  source_url                204680 non-null  object\n",
      " 30  spotlight                 204680 non-null  object\n",
      " 31  staff_pick                204680 non-null  object\n",
      " 32  state                     204680 non-null  object\n",
      " 33  state_changed_at          204680 non-null  object\n",
      " 34  static_usd_rate           204680 non-null  object\n",
      " 35  urls                      204680 non-null  object\n",
      " 36  usd_pledged               204680 non-null  object\n",
      " 37  usd_type                  204500 non-null  object\n",
      "dtypes: object(38)\n",
      "memory usage: 59.3+ MB\n"
     ]
    }
   ],
   "source": [
    "df.info()"
   ]
  },
  {
   "cell_type": "code",
   "execution_count": 49,
   "metadata": {},
   "outputs": [],
   "source": [
    "#   FRIENDS PERMISSIONS IS_STARRED  IS_BACKING  HAS MANY NULLS, DELETE"
   ]
  },
  {
   "cell_type": "code",
   "execution_count": 50,
   "metadata": {},
   "outputs": [],
   "source": [
    "# NULL COLUMNS?\n",
    "df.drop(labels=['friends','is_backing','is_starred','permissions'],axis=1,inplace=True)"
   ]
  },
  {
   "cell_type": "code",
   "execution_count": 51,
   "metadata": {},
   "outputs": [
    {
     "data": {
      "text/plain": [
       "204304"
      ]
     },
     "execution_count": 51,
     "metadata": {},
     "output_type": "execute_result"
    }
   ],
   "source": [
    "# NULL ROWS?\n",
    "df.dropna(axis=0, how='any',inplace=True)\n",
    "len(df)"
   ]
  },
  {
   "cell_type": "code",
   "execution_count": 52,
   "metadata": {
    "scrolled": true
   },
   "outputs": [
    {
     "data": {
      "text/plain": [
       "array(['successful', 'failed', 'live', 'canceled', 'state'], dtype=object)"
      ]
     },
     "execution_count": 52,
     "metadata": {},
     "output_type": "execute_result"
    }
   ],
   "source": [
    "df.state.unique()"
   ]
  },
  {
   "cell_type": "code",
   "execution_count": 53,
   "metadata": {},
   "outputs": [
    {
     "name": "stdout",
     "output_type": "stream",
     "text": [
      "Number of duplicated project IDs: 23768\n"
     ]
    }
   ],
   "source": [
    "# DUPLICATES?\n",
    "dups = df[df.duplicated(subset='id',keep=False)==True].copy()\n",
    "print('Number of duplicated project IDs:', len(dups.groupby('id')))"
   ]
  },
  {
   "cell_type": "code",
   "execution_count": 54,
   "metadata": {},
   "outputs": [
    {
     "data": {
      "text/plain": [
       "156715"
      ]
     },
     "execution_count": 54,
     "metadata": {},
     "output_type": "execute_result"
    }
   ],
   "source": [
    "# DROP DUPLICATES\n",
    "df = df[df.duplicated(subset='id',keep=False)==False].copy()\n",
    "len(df)"
   ]
  },
  {
   "cell_type": "code",
   "execution_count": 55,
   "metadata": {},
   "outputs": [
    {
     "data": {
      "text/plain": [
       "147238"
      ]
     },
     "execution_count": 55,
     "metadata": {},
     "output_type": "execute_result"
    }
   ],
   "source": [
    "# ONLY SUCESSFUL ONES\n",
    "df = df[(df['state']=='successful') | (df['state']=='failed')].copy()\n",
    "len(df)"
   ]
  },
  {
   "cell_type": "code",
   "execution_count": 56,
   "metadata": {},
   "outputs": [],
   "source": [
    "# CHANGE TO PROJECTSUCCES THEN USE STATE\n",
    "df.rename(columns={'state':'project_success'},inplace=True)\n",
    "df['project_success'] = np.where(df['project_success']=='successful', 1, 0)"
   ]
  },
  {
   "cell_type": "code",
   "execution_count": null,
   "metadata": {},
   "outputs": [],
   "source": []
  },
  {
   "cell_type": "code",
   "execution_count": null,
   "metadata": {},
   "outputs": [],
   "source": []
  },
  {
   "cell_type": "code",
   "execution_count": 57,
   "metadata": {},
   "outputs": [
    {
     "name": "stdout",
     "output_type": "stream",
     "text": [
      "State Percentual in %: \n",
      "1    51.94\n",
      "0    48.06\n",
      "Name: project_success, dtype: float64\n"
     ]
    },
    {
     "data": {
      "image/png": "[encoded data removed]",
      "text/plain": [
       "<Figure size 576x432 with 1 Axes>"
      ]
     },
     "metadata": {
      "needs_background": "light"
     },
     "output_type": "display_data"
    }
   ],
   "source": [
    "# PLOT STATE PERPETUAL\n",
    "\n",
    "percentual_sucess = round(df[\"project_success\"].value_counts() / len(df[\"project_success\"]) * 100,2)\n",
    "\n",
    "print(\"State Percentual in %: \")\n",
    "print(percentual_sucess)\n",
    "\n",
    "plt.figure(figsize = (8,6))\n",
    "\n",
    "ax1 = sns.countplot(x=\"project_success\", data=df)\n",
    "ax1.set_xticklabels(ax1.get_xticklabels(),rotation=45)\n",
    "ax1.set_title(\"Status Project Distribuition\", fontsize=15)\n",
    "ax1.set_xlabel(\"State Description\", fontsize=12)\n",
    "ax1.set_ylabel(\"Count\", fontsize=12)\n",
    "\n",
    "plt.show()"
   ]
  },
  {
   "cell_type": "code",
   "execution_count": null,
   "metadata": {},
   "outputs": [],
   "source": []
  },
  {
   "cell_type": "code",
   "execution_count": null,
   "metadata": {},
   "outputs": [],
   "source": []
  },
  {
   "cell_type": "code",
   "execution_count": 58,
   "metadata": {
    "scrolled": true
   },
   "outputs": [
    {
     "data": {
      "text/html": [
       "<div>\n",
       "<style scoped>\n",
       "    .dataframe tbody tr th:only-of-type {\n",
       "        vertical-align: middle;\n",
       "    }\n",
       "\n",
       "    .dataframe tbody tr th {\n",
       "        vertical-align: top;\n",
       "    }\n",
       "\n",
       "    .dataframe thead th {\n",
       "        text-align: right;\n",
       "    }\n",
       "</style>\n",
       "<table border=\"1\" class=\"dataframe\">\n",
       "  <thead>\n",
       "    <tr style=\"text-align: right;\">\n",
       "      <th></th>\n",
       "      <th>created_at</th>\n",
       "      <th>deadline</th>\n",
       "      <th>launched_at</th>\n",
       "      <th>state_changed_at</th>\n",
       "    </tr>\n",
       "  </thead>\n",
       "  <tbody>\n",
       "    <tr>\n",
       "      <th>0</th>\n",
       "      <td>1541608918</td>\n",
       "      <td>1556654150</td>\n",
       "      <td>1554062150</td>\n",
       "      <td>1556654150</td>\n",
       "    </tr>\n",
       "    <tr>\n",
       "      <th>1</th>\n",
       "      <td>1377505616</td>\n",
       "      <td>1382136005</td>\n",
       "      <td>1378248005</td>\n",
       "      <td>1382136006</td>\n",
       "    </tr>\n",
       "    <tr>\n",
       "      <th>2</th>\n",
       "      <td>1424288631</td>\n",
       "      <td>1426952928</td>\n",
       "      <td>1424364528</td>\n",
       "      <td>1426952931</td>\n",
       "    </tr>\n",
       "  </tbody>\n",
       "</table>\n",
       "</div>"
      ],
      "text/plain": [
       "   created_at    deadline launched_at state_changed_at\n",
       "0  1541608918  1556654150  1554062150       1556654150\n",
       "1  1377505616  1382136005  1378248005       1382136006\n",
       "2  1424288631  1426952928  1424364528       1426952931"
      ]
     },
     "execution_count": 58,
     "metadata": {},
     "output_type": "execute_result"
    }
   ],
   "source": [
    "df[['created_at','deadline','launched_at','state_changed_at']].head(3)"
   ]
  },
  {
   "cell_type": "code",
   "execution_count": 59,
   "metadata": {},
   "outputs": [
    {
     "name": "stdout",
     "output_type": "stream",
     "text": [
      "1240366270\n",
      "1586304575\n"
     ]
    }
   ],
   "source": [
    "print(df.created_at.min())\n",
    "print(df.created_at.max())"
   ]
  },
  {
   "cell_type": "markdown",
   "metadata": {},
   "source": [
    "## COUNTS"
   ]
  },
  {
   "cell_type": "code",
   "execution_count": null,
   "metadata": {},
   "outputs": [],
   "source": []
  },
  {
   "cell_type": "code",
   "execution_count": null,
   "metadata": {},
   "outputs": [],
   "source": []
  },
  {
   "cell_type": "code",
   "execution_count": 60,
   "metadata": {},
   "outputs": [
    {
     "data": {
      "text/plain": [
       "{\"id\":272,\"name\":\"Mobile Games\",\"slug\":\"games/mobile games\",\"position\":3,\"parent_id\":12,\"parent_name\":\"Games\",\"color\":51627,\"urls\":{\"web\":{\"discover\":\"http://www.kickstarter.com/discover/categories/games/mobile%20games\"}}}               2383\n",
       "{\"id\":273,\"name\":\"Playing Cards\",\"slug\":\"games/playing cards\",\"position\":4,\"parent_id\":12,\"parent_name\":\"Games\",\"color\":51627,\"urls\":{\"web\":{\"discover\":\"http://www.kickstarter.com/discover/categories/games/playing%20cards\"}}}            2344\n",
       "{\"id\":53,\"name\":\"Public Art\",\"slug\":\"art/public art\",\"position\":9,\"parent_id\":1,\"parent_name\":\"Art\",\"color\":16760235,\"urls\":{\"web\":{\"discover\":\"http://www.kickstarter.com/discover/categories/art/public%20art\"}}}                          2344\n",
       "{\"id\":36,\"name\":\"Classical Music\",\"slug\":\"music/classical music\",\"position\":3,\"parent_id\":14,\"parent_name\":\"Music\",\"color\":10878931,\"urls\":{\"web\":{\"discover\":\"http://www.kickstarter.com/discover/categories/music/classical%20music\"}}}    2319\n",
       "{\"id\":342,\"name\":\"Web\",\"slug\":\"technology/web\",\"position\":15,\"parent_id\":16,\"parent_name\":\"Technology\",\"color\":6526716,\"urls\":{\"web\":{\"discover\":\"http://www.kickstarter.com/discover/categories/technology/web\"}}}                          2312\n",
       "                                                                                                                                                                                                                                             ... \n",
       "{\"id\":395,\"name\":\"Social Practice\",\"slug\":\"art/social practice\",\"position\":11,\"parent_id\":1,\"parent_name\":\"Art\",\"color\":16760235,\"urls\":{\"web\":{\"discover\":\"http://www.kickstarter.com/discover/categories/art/social%20practice\"}}}           43\n",
       "{\"id\":386,\"name\":\"Comedy\",\"slug\":\"music/comedy\",\"position\":4,\"parent_id\":14,\"parent_name\":\"Music\",\"color\":10878931,\"urls\":{\"web\":{\"discover\":\"http://www.kickstarter.com/discover/categories/music/comedy\"}}}                                  43\n",
       "{\"id\":317,\"name\":\"Chiptune\",\"slug\":\"music/chiptune\",\"position\":2,\"parent_id\":14,\"parent_name\":\"Music\",\"color\":10878931,\"urls\":{\"web\":{\"discover\":\"http://www.kickstarter.com/discover/categories/music/chiptune\"}}}                            42\n",
       "{\"id\":255,\"name\":\"Residencies\",\"slug\":\"dance/residencies\",\"position\":2,\"parent_id\":6,\"parent_name\":\"Dance\",\"color\":10917369,\"urls\":{\"web\":{\"discover\":\"http://www.kickstarter.com/discover/categories/dance/residencies\"}}}                    23\n",
       "{\"id\":354,\"name\":\"Taxidermy\",\"slug\":\"crafts/taxidermy\",\"position\":12,\"parent_id\":26,\"parent_name\":\"Crafts\",\"color\":16744876,\"urls\":{\"web\":{\"discover\":\"http://www.kickstarter.com/discover/categories/crafts/taxidermy\"}}}                      7\n",
       "Name: category, Length: 169, dtype: int64"
      ]
     },
     "execution_count": 60,
     "metadata": {},
     "output_type": "execute_result"
    }
   ],
   "source": [
    "df.category.value_counts()"
   ]
  },
  {
   "cell_type": "code",
   "execution_count": 61,
   "metadata": {},
   "outputs": [
    {
     "data": {
      "text/html": [
       "<div>\n",
       "<style scoped>\n",
       "    .dataframe tbody tr th:only-of-type {\n",
       "        vertical-align: middle;\n",
       "    }\n",
       "\n",
       "    .dataframe tbody tr th {\n",
       "        vertical-align: top;\n",
       "    }\n",
       "\n",
       "    .dataframe thead th {\n",
       "        text-align: right;\n",
       "    }\n",
       "</style>\n",
       "<table border=\"1\" class=\"dataframe\">\n",
       "  <thead>\n",
       "    <tr style=\"text-align: right;\">\n",
       "      <th></th>\n",
       "      <th>category</th>\n",
       "      <th>count</th>\n",
       "    </tr>\n",
       "  </thead>\n",
       "  <tbody>\n",
       "    <tr>\n",
       "      <th>0</th>\n",
       "      <td>{\"id\":272,\"name\":\"Mobile Games\",\"slug\":\"games/...</td>\n",
       "      <td>2383</td>\n",
       "    </tr>\n",
       "    <tr>\n",
       "      <th>1</th>\n",
       "      <td>{\"id\":273,\"name\":\"Playing Cards\",\"slug\":\"games...</td>\n",
       "      <td>2344</td>\n",
       "    </tr>\n",
       "    <tr>\n",
       "      <th>2</th>\n",
       "      <td>{\"id\":53,\"name\":\"Public Art\",\"slug\":\"art/publi...</td>\n",
       "      <td>2344</td>\n",
       "    </tr>\n",
       "    <tr>\n",
       "      <th>3</th>\n",
       "      <td>{\"id\":36,\"name\":\"Classical Music\",\"slug\":\"musi...</td>\n",
       "      <td>2319</td>\n",
       "    </tr>\n",
       "    <tr>\n",
       "      <th>4</th>\n",
       "      <td>{\"id\":342,\"name\":\"Web\",\"slug\":\"technology/web\"...</td>\n",
       "      <td>2312</td>\n",
       "    </tr>\n",
       "    <tr>\n",
       "      <th>...</th>\n",
       "      <td>...</td>\n",
       "      <td>...</td>\n",
       "    </tr>\n",
       "    <tr>\n",
       "      <th>164</th>\n",
       "      <td>{\"id\":395,\"name\":\"Social Practice\",\"slug\":\"art...</td>\n",
       "      <td>43</td>\n",
       "    </tr>\n",
       "    <tr>\n",
       "      <th>165</th>\n",
       "      <td>{\"id\":386,\"name\":\"Comedy\",\"slug\":\"music/comedy...</td>\n",
       "      <td>43</td>\n",
       "    </tr>\n",
       "    <tr>\n",
       "      <th>166</th>\n",
       "      <td>{\"id\":317,\"name\":\"Chiptune\",\"slug\":\"music/chip...</td>\n",
       "      <td>42</td>\n",
       "    </tr>\n",
       "    <tr>\n",
       "      <th>167</th>\n",
       "      <td>{\"id\":255,\"name\":\"Residencies\",\"slug\":\"dance/r...</td>\n",
       "      <td>23</td>\n",
       "    </tr>\n",
       "    <tr>\n",
       "      <th>168</th>\n",
       "      <td>{\"id\":354,\"name\":\"Taxidermy\",\"slug\":\"crafts/ta...</td>\n",
       "      <td>7</td>\n",
       "    </tr>\n",
       "  </tbody>\n",
       "</table>\n",
       "<p>169 rows × 2 columns</p>\n",
       "</div>"
      ],
      "text/plain": [
       "                                              category  count\n",
       "0    {\"id\":272,\"name\":\"Mobile Games\",\"slug\":\"games/...   2383\n",
       "1    {\"id\":273,\"name\":\"Playing Cards\",\"slug\":\"games...   2344\n",
       "2    {\"id\":53,\"name\":\"Public Art\",\"slug\":\"art/publi...   2344\n",
       "3    {\"id\":36,\"name\":\"Classical Music\",\"slug\":\"musi...   2319\n",
       "4    {\"id\":342,\"name\":\"Web\",\"slug\":\"technology/web\"...   2312\n",
       "..                                                 ...    ...\n",
       "164  {\"id\":395,\"name\":\"Social Practice\",\"slug\":\"art...     43\n",
       "165  {\"id\":386,\"name\":\"Comedy\",\"slug\":\"music/comedy...     43\n",
       "166  {\"id\":317,\"name\":\"Chiptune\",\"slug\":\"music/chip...     42\n",
       "167  {\"id\":255,\"name\":\"Residencies\",\"slug\":\"dance/r...     23\n",
       "168  {\"id\":354,\"name\":\"Taxidermy\",\"slug\":\"crafts/ta...      7\n",
       "\n",
       "[169 rows x 2 columns]"
      ]
     },
     "execution_count": 61,
     "metadata": {},
     "output_type": "execute_result"
    }
   ],
   "source": [
    "# CONVERT\n",
    "df_main_cat_countss = df.category.value_counts().reset_index()\n",
    "df_main_cat_countss.columns = ['category','count']\n",
    "df_main_cat_countss"
   ]
  },
  {
   "cell_type": "code",
   "execution_count": null,
   "metadata": {},
   "outputs": [],
   "source": []
  },
  {
   "cell_type": "code",
   "execution_count": null,
   "metadata": {},
   "outputs": [],
   "source": []
  },
  {
   "cell_type": "code",
   "execution_count": null,
   "metadata": {},
   "outputs": [],
   "source": []
  },
  {
   "cell_type": "code",
   "execution_count": 62,
   "metadata": {},
   "outputs": [
    {
     "data": {
      "text/plain": [
       "'{\"id\":1097916022,\"name\":\"Sabrina  Montgomery\",\"slug\":\"sabrinamontgomery\",\"is_registered\":null,\"chosen_currency\":null,\"is_superbacker\":null,\"avatar\":{\"thumb\":\"https://ksr-ugc.imgix.net/assets/007/803/708/70590492019c211894fe97c5f394c98e_original.JPG?ixlib=rb-2.1.0&w=40&h=40&fit=crop&v=1461480580&auto=format&frame=1&q=92&s=3e748cca1794239f3e6da0fa69c41899\",\"small\":\"https://ksr-ugc.imgix.net/assets/007/803/708/70590492019c211894fe97c5f394c98e_original.JPG?ixlib=rb-2.1.0&w=160&h=160&fit=crop&v=1461480580&auto=format&frame=1&q=92&s=2ff6b15932168f4680950be66f23fffc\",\"medium\":\"https://ksr-ugc.imgix.net/assets/007/803/708/70590492019c211894fe97c5f394c98e_original.JPG?ixlib=rb-2.1.0&w=160&h=160&fit=crop&v=1461480580&auto=format&frame=1&q=92&s=2ff6b15932168f4680950be66f23fffc\"},\"urls\":{\"web\":{\"user\":\"https://www.kickstarter.com/profile/sabrinamontgomery\"},\"api\":{\"user\":\"https://api.kickstarter.com/v1/users/1097916022?signature=1587095059.b5535098a7dcd8dbae3587ad510b4ee6735a70a8\"}}}'"
      ]
     },
     "execution_count": 62,
     "metadata": {},
     "output_type": "execute_result"
    }
   ],
   "source": [
    "# CHECK CREATOR\n",
    "df.loc[1]['creator']"
   ]
  },
  {
   "cell_type": "code",
   "execution_count": 63,
   "metadata": {},
   "outputs": [],
   "source": [
    "# CREATOR ID\n",
    "df['creator_id'] = [re.match(r'.+(\"id\":)(\\d+,).+',creator).group(2).replace(',','') \n",
    "                    for creator in df['creator']]"
   ]
  },
  {
   "cell_type": "code",
   "execution_count": 64,
   "metadata": {},
   "outputs": [
    {
     "name": "stdout",
     "output_type": "stream",
     "text": [
      "Number of duplicated project IDs: 10598\n"
     ]
    }
   ],
   "source": [
    "creator_dups = df[df.duplicated(subset='creator_id',keep=False)==True].copy()\n",
    "print('Number of duplicated project IDs:', len(creator_dups.groupby('creator_id')))"
   ]
  },
  {
   "cell_type": "code",
   "execution_count": 65,
   "metadata": {},
   "outputs": [],
   "source": [
    "\n",
    "df.sort_values(by=['creator_id','launched_at'],inplace=True)\n",
    "\n",
    "df['proj_num_by_creator'] = df.groupby(['creator_id']).cumcount()+1"
   ]
  },
  {
   "cell_type": "code",
   "execution_count": 66,
   "metadata": {},
   "outputs": [
    {
     "data": {
      "text/plain": [
       "count    147238.000000\n",
       "mean          1.276077\n",
       "std           1.422409\n",
       "min           1.000000\n",
       "25%           1.000000\n",
       "50%           1.000000\n",
       "75%           1.000000\n",
       "max          63.000000\n",
       "Name: proj_num_by_creator, dtype: float64"
      ]
     },
     "execution_count": 66,
     "metadata": {},
     "output_type": "execute_result"
    }
   ],
   "source": [
    "df['proj_num_by_creator'].describe()"
   ]
  },
  {
   "cell_type": "code",
   "execution_count": 67,
   "metadata": {},
   "outputs": [],
   "source": [
    "# BINARY VALUE\n",
    "df['first_time_proj'] = np.where(df['proj_num_by_creator']==1, 1, 0)"
   ]
  },
  {
   "cell_type": "code",
   "execution_count": 68,
   "metadata": {},
   "outputs": [
    {
     "data": {
      "text/plain": [
       "count     147238\n",
       "unique      4613\n",
       "top         5000\n",
       "freq       10875\n",
       "Name: goal, dtype: object"
      ]
     },
     "execution_count": 68,
     "metadata": {},
     "output_type": "execute_result"
    }
   ],
   "source": [
    "# THE RANGE\n",
    "df['goal'].describe()"
   ]
  },
  {
   "cell_type": "code",
   "execution_count": 69,
   "metadata": {},
   "outputs": [
    {
     "data": {
      "image/png": "[encoded data removed]",
      "text/plain": [
       "<Figure size 432x288 with 1 Axes>"
      ]
     },
     "metadata": {
      "needs_background": "light"
     },
     "output_type": "display_data"
    }
   ],
   "source": [
    "# BY COUNTRY?\n",
    "project_by_country = df.groupby(by='country')['id'].count()\n",
    "\n",
    "plt.barh(project_by_country.index,project_by_country.values)\n",
    "plt.xlabel('Num of Projects')\n",
    "plt.title('Number of Projects by Country');"
   ]
  },
  {
   "cell_type": "code",
   "execution_count": 70,
   "metadata": {},
   "outputs": [
    {
     "data": {
      "text/plain": [
       "105153"
      ]
     },
     "execution_count": 70,
     "metadata": {},
     "output_type": "execute_result"
    }
   ],
   "source": [
    "# US ONLY\n",
    "df = df[df['country']=='US'].copy()\n",
    "df.drop('country',axis=1,inplace=True)\n",
    "len(df)"
   ]
  },
  {
   "cell_type": "code",
   "execution_count": 71,
   "metadata": {},
   "outputs": [
    {
     "data": {
      "text/plain": [
       "101430"
      ]
     },
     "execution_count": 71,
     "metadata": {},
     "output_type": "execute_result"
    }
   ],
   "source": [
    "\n",
    "df['country_check'] = [re.match(r'.+(\"country\":)(\"\\w\\w\").+', loc_string).group(2).replace('\"','') for loc_string in df['location']]\n",
    "df = df[df['country_check']=='US'].copy()\n",
    "df.drop('country_check',axis=1,inplace=True)\n",
    "len(df)"
   ]
  },
  {
   "cell_type": "code",
   "execution_count": 72,
   "metadata": {},
   "outputs": [
    {
     "data": {
      "text/plain": [
       "array(['PA', 'NY', 'CA', 'TX', 'IL', 'MI', 'DC', 'NC', 'MA', 'FL', 'KY',\n",
       "       'OH', 'SC', 'WI', 'UT', 'GA', 'ME', 'WA', 'AL', 'OR', 'CT', 'AR',\n",
       "       'SD', 'TN', 'VA', 'MD', 'OK', 'LA', 'VT', 'IA', 'NJ', 'CO', 'NV',\n",
       "       'MO', 'MN', 'MT', 'AZ', 'NH', 'IN', 'AK', 'ID', 'WV', 'HI', 'NM',\n",
       "       'KS', 'ND', 'MS', 'DE', 'RI', 'WY', 'NE'], dtype=object)"
      ]
     },
     "execution_count": 72,
     "metadata": {},
     "output_type": "execute_result"
    }
   ],
   "source": [
    "# US COLUMN\n",
    "df['state'] = [re.match(r'.+(\"state\":)(\"\\w+\").+', loc_string).group(2).replace('\"','') \n",
    "               for loc_string in df['location']]\n",
    "\n",
    "df.state.unique()"
   ]
  },
  {
   "cell_type": "code",
   "execution_count": 73,
   "metadata": {},
   "outputs": [
    {
     "data": {
      "text/plain": [
       "'{\"id\":30,\"name\":\"Documentary\",\"slug\":\"film & video/documentary\",\"position\":4,\"parent_id\":11,\"parent_name\":\"Film & Video\",\"color\":16734574,\"urls\":{\"web\":{\"discover\":\"http://www.kickstarter.com/discover/categories/film%20&%20video/documentary\"}}}'"
      ]
     },
     "execution_count": 73,
     "metadata": {},
     "output_type": "execute_result"
    }
   ],
   "source": [
    "\n",
    "df.loc[2109,'category']"
   ]
  },
  {
   "cell_type": "code",
   "execution_count": 74,
   "metadata": {},
   "outputs": [
    {
     "data": {
      "text/plain": [
       "array(['http:'], dtype=object)"
      ]
     },
     "execution_count": 74,
     "metadata": {},
     "output_type": "execute_result"
    }
   ],
   "source": [
    "\n",
    "df['gen_category'] = [cat_string.split('\"')[-2].split('/')[0] for cat_string in df['category']]\n",
    "df['gen_category'].unique()"
   ]
  },
  {
   "cell_type": "code",
   "execution_count": 75,
   "metadata": {
    "scrolled": true
   },
   "outputs": [
    {
     "data": {
      "text/plain": [
       "array(['performance%20art', 'plays', 'digital%20art', 'fiction',\n",
       "       'young%20adult', 'restaurants', 'nature', 'action', 'pop',\n",
       "       'country%20&%20folk', 'workshops', 'blues', 'farms',\n",
       "       'food%20trucks', 'television', 'fantasy', 'gaming%20hardware',\n",
       "       'comedy', 'dance', 'art%20books', 'hardware', 'vegan',\n",
       "       'stationery', 'hip-hop', 'woodworking', 'graphic%20novels',\n",
       "       'illustration', 'art', 'public%20art', 'live%20games',\n",
       "       'video%20games', 'conceptual%20art', 'journalism', 'faith',\n",
       "       'electronic%20music', 'print', 'shorts', 'musical', 'web', 'rock',\n",
       "       'diy', 'sculpture', 'tabletop%20games', 'mobile%20games', 'drinks',\n",
       "       'small%20batch', 'candles', 'classical%20music', 'gadgets',\n",
       "       'people', 'latin', 'nonfiction', 'webseries', 'horror',\n",
       "       'music%20videos', 'playing%20cards', \"children's%20books\",\n",
       "       'spaces', 'wearables', 'indie%20rock', 'thrillers', 'drama',\n",
       "       'product%20design', 'interactive%20design', 'accessories',\n",
       "       'graphic%20design', 'couture', 'animation', 'science%20fiction',\n",
       "       'video', 'literary%20journals', 'jazz', 'pet%20fashion',\n",
       "       'radio%20&%20podcasts', 'anthologies', 'experimental',\n",
       "       'civic%20design', 'architecture', 'places', 'narrative%20film',\n",
       "       'zines', 'poetry', 'software', 'flight', 'mixed%20media',\n",
       "       'webcomics', 'fine%20art', 'crafts', 'movie%20theaters',\n",
       "       'photography', 'robots', 'makerspaces', 'sound', 'photobooks',\n",
       "       'camera%20equipment', 'metal', 'periodicals', 'apparel', 'apps',\n",
       "       '3d%20printing', 'childrenswear', 'documentary', 'immersive',\n",
       "       'painting', 'footwear', 'events', 'design', 'installations',\n",
       "       'food', 'bacon', 'community%20gardens', 'calendars',\n",
       "       'diy%20electronics', 'jewelry', 'family', 'comic%20books', 'music',\n",
       "       'r&b', 'space%20exploration', 'typography', 'crochet', 'puzzles',\n",
       "       'textiles', 'embroidery', 'fashion', 'ceramics', 'knitting',\n",
       "       'kids', 'punk', 'fabrication%20tools', \"farmer's%20markets\",\n",
       "       'glass', 'festivals', 'performances', 'comics', 'cookbooks',\n",
       "       'translations', 'publishing', 'academic', 'printing', 'technology',\n",
       "       'audio', 'romance', 'photo', 'theater', 'world%20music', 'pottery',\n",
       "       'animals', 'video%20art', 'film%20&%20video', 'letterpress',\n",
       "       'weaving', 'literary%20spaces', 'quilts', 'taxidermy',\n",
       "       'residencies', 'ready-to-wear', 'social%20practice', 'chiptune'],\n",
       "      dtype=object)"
      ]
     },
     "execution_count": 75,
     "metadata": {},
     "output_type": "execute_result"
    }
   ],
   "source": [
    "\n",
    "df['sub_category'] = [cat_string.split('\"')[-2].split('/')[-1] for cat_string in df['category']]\n",
    "df['sub_category'].unique()"
   ]
  },
  {
   "cell_type": "code",
   "execution_count": 76,
   "metadata": {},
   "outputs": [],
   "source": [
    "\n",
    "df.drop(labels=['category'],axis=1,inplace=True)"
   ]
  },
  {
   "cell_type": "code",
   "execution_count": 77,
   "metadata": {
    "scrolled": false
   },
   "outputs": [
    {
     "name": "stdout",
     "output_type": "stream",
     "text": [
      "backers_count 2450\n",
      "blurb 100833\n",
      "converted_pledged_amount 22799\n",
      "country_displayable_name 1\n",
      "created_at 101404\n",
      "creator 101184\n",
      "currency 1\n",
      "currency_symbol 1\n",
      "currency_trailing_code 1\n",
      "current_currency 1\n",
      "deadline 96382\n",
      "disable_communication 1\n",
      "fx_rate 1\n",
      "goal 3448\n",
      "id 101430\n",
      "is_starrable 1\n",
      "launched_at 101383\n",
      "location 11316\n",
      "name 101208\n",
      "photo 101423\n",
      "pledged 28294\n",
      "profile 101430\n",
      "slug 101430\n",
      "source_url 164\n",
      "spotlight 2\n",
      "staff_pick 2\n",
      "project_success 2\n",
      "state_changed_at 96655\n",
      "static_usd_rate 1\n",
      "urls 101430\n",
      "usd_pledged 28294\n",
      "usd_type 1\n",
      "creator_id 89320\n",
      "proj_num_by_creator 63\n",
      "first_time_proj 2\n",
      "state 51\n",
      "gen_category 1\n",
      "sub_category 159\n"
     ]
    }
   ],
   "source": [
    "# CHECK EACH COLUMN VARIANCE\n",
    "\n",
    "df_cols = list(df.columns)\n",
    "\n",
    "for c in df_cols:\n",
    "    print(c, len(set(df[c])))"
   ]
  },
  {
   "cell_type": "code",
   "execution_count": 78,
   "metadata": {},
   "outputs": [
    {
     "data": {
      "text/html": [
       "<div>\n",
       "<style scoped>\n",
       "    .dataframe tbody tr th:only-of-type {\n",
       "        vertical-align: middle;\n",
       "    }\n",
       "\n",
       "    .dataframe tbody tr th {\n",
       "        vertical-align: top;\n",
       "    }\n",
       "\n",
       "    .dataframe thead th {\n",
       "        text-align: right;\n",
       "    }\n",
       "</style>\n",
       "<table border=\"1\" class=\"dataframe\">\n",
       "  <thead>\n",
       "    <tr style=\"text-align: right;\">\n",
       "      <th></th>\n",
       "    </tr>\n",
       "  </thead>\n",
       "  <tbody>\n",
       "  </tbody>\n",
       "</table>\n",
       "</div>"
      ],
      "text/plain": [
       "Empty DataFrame\n",
       "Columns: []\n",
       "Index: []"
      ]
     },
     "execution_count": 78,
     "metadata": {},
     "output_type": "execute_result"
    }
   ],
   "source": [
    "\n",
    "df[['converted_pledged_amount','usd_pledged']].corr()"
   ]
  },
  {
   "cell_type": "code",
   "execution_count": 79,
   "metadata": {},
   "outputs": [
    {
     "data": {
      "text/plain": [
       "Index(['backers_count', 'blurb', 'converted_pledged_amount',\n",
       "       'country_displayable_name', 'created_at', 'creator', 'currency',\n",
       "       'currency_symbol', 'currency_trailing_code', 'current_currency',\n",
       "       'deadline', 'disable_communication', 'fx_rate', 'goal', 'id',\n",
       "       'is_starrable', 'launched_at', 'location', 'name', 'photo', 'pledged',\n",
       "       'profile', 'slug', 'source_url', 'spotlight', 'staff_pick',\n",
       "       'project_success', 'state_changed_at', 'static_usd_rate', 'urls',\n",
       "       'usd_pledged', 'usd_type', 'creator_id', 'proj_num_by_creator',\n",
       "       'first_time_proj', 'state', 'gen_category', 'sub_category'],\n",
       "      dtype='object')"
      ]
     },
     "execution_count": 79,
     "metadata": {},
     "output_type": "execute_result"
    }
   ],
   "source": [
    "df.columns"
   ]
  },
  {
   "cell_type": "markdown",
   "metadata": {},
   "source": [
    "## OBSERVATIONS"
   ]
  },
  {
   "cell_type": "markdown",
   "metadata": {},
   "source": [
    "### CATEGORIES"
   ]
  },
  {
   "cell_type": "code",
   "execution_count": 80,
   "metadata": {},
   "outputs": [
    {
     "name": "stdout",
     "output_type": "stream",
     "text": [
      "Number of gen categoreis:  1\n",
      "Number of sub categoreis:  159\n"
     ]
    }
   ],
   "source": [
    "print('Number of gen categoreis: ', len(np.unique(df['gen_category'])))\n",
    "print('Number of sub categoreis: ', len(np.unique(df['sub_category'])))"
   ]
  },
  {
   "cell_type": "code",
   "execution_count": 81,
   "metadata": {},
   "outputs": [],
   "source": [
    "# GET gen_categories\n",
    "gen_categories = list(set(df['gen_category']))"
   ]
  },
  {
   "cell_type": "code",
   "execution_count": 82,
   "metadata": {},
   "outputs": [],
   "source": [
    "\n",
    "df = pd.get_dummies(df, columns=['gen_category'], prefix='category')\n",
    "df.rename(columns={'category_film & video':'category_film_n_video'},inplace=True)"
   ]
  },
  {
   "cell_type": "code",
   "execution_count": 83,
   "metadata": {
    "scrolled": true
   },
   "outputs": [
    {
     "data": {
      "text/plain": [
       "Index(['backers_count', 'blurb', 'converted_pledged_amount',\n",
       "       'country_displayable_name', 'created_at', 'creator', 'currency',\n",
       "       'currency_symbol', 'currency_trailing_code', 'current_currency',\n",
       "       'deadline', 'disable_communication', 'fx_rate', 'goal', 'id',\n",
       "       'is_starrable', 'launched_at', 'location', 'name', 'photo', 'pledged',\n",
       "       'profile', 'slug', 'source_url', 'spotlight', 'staff_pick',\n",
       "       'project_success', 'state_changed_at', 'static_usd_rate', 'urls',\n",
       "       'usd_pledged', 'usd_type', 'creator_id', 'proj_num_by_creator',\n",
       "       'first_time_proj', 'state', 'sub_category', 'category_http:'],\n",
       "      dtype='object')"
      ]
     },
     "execution_count": 83,
     "metadata": {},
     "output_type": "execute_result"
    }
   ],
   "source": [
    "df.columns"
   ]
  },
  {
   "cell_type": "code",
   "execution_count": 84,
   "metadata": {},
   "outputs": [],
   "source": [
    "df.to_csv('./data/final_kickstarter_data.csv')"
   ]
  },
  {
   "cell_type": "markdown",
   "metadata": {},
   "source": [
    "## MODELING"
   ]
  },
  {
   "cell_type": "code",
   "execution_count": 85,
   "metadata": {},
   "outputs": [],
   "source": [
    "from sklearn import naive_bayes\n",
    "from sklearn import pipeline, preprocessing, neighbors, model_selection\n",
    "from sklearn.model_selection import train_test_split\n",
    "from sklearn.model_selection import GridSearchCV\n",
    "from sklearn.ensemble import VotingClassifier\n",
    "\n",
    "from sklearn.linear_model import LogisticRegression\n",
    "from sklearn.ensemble import RandomForestClassifier\n",
    "\n",
    "from sklearn import metrics\n",
    "from sklearn.metrics import confusion_matrix\n",
    "from sklearn.metrics import roc_curve, auc\n",
    "from sklearn.metrics import precision_recall_curve"
   ]
  },
  {
   "cell_type": "code",
   "execution_count": 86,
   "metadata": {},
   "outputs": [
    {
     "name": "stderr",
     "output_type": "stream",
     "text": [
      "C:\\Users\\Captain\\anaconda3\\lib\\site-packages\\pandas\\core\\ops\\array_ops.py:253: FutureWarning: elementwise comparison failed; returning scalar instead, but in the future will perform elementwise comparison\n",
      "  res_values = method(rvalues)\n"
     ]
    }
   ],
   "source": [
    "# CHANGE TO PROJECTSUCCES THEN USE STATE\n",
    "df.rename(columns={'state':'project_success'},inplace=True)\n",
    "df['project_success'] = np.where(df['project_success']=='successful', 1, 0)"
   ]
  },
  {
   "cell_type": "code",
   "execution_count": 87,
   "metadata": {},
   "outputs": [],
   "source": [
    "# create X and y variables\n",
    "X = df.select_dtypes(exclude=object).drop('project_success',axis=1).copy()\n",
    "y = df['project_success']"
   ]
  },
  {
   "cell_type": "code",
   "execution_count": 88,
   "metadata": {},
   "outputs": [],
   "source": [
    "# experimentation setup\n",
    "\n",
    "#train test split\n",
    "X_train, X_test, y_train, y_test = train_test_split(X, y, random_state=123)\n",
    "\n",
    "\n",
    "# transformation\n",
    "scaler = preprocessing.StandardScaler()\n",
    "\n",
    "# set cross-validation method\n",
    "kfold = model_selection.StratifiedKFold(n_splits=10, shuffle=True, random_state=101)"
   ]
  },
  {
   "cell_type": "code",
   "execution_count": 89,
   "metadata": {},
   "outputs": [],
   "source": [
    "# create a function to generate scaled X features\n",
    "def get_X_std(train_set, test_set, feature_list):\n",
    "    \n",
    "    X_trn = train_set[feature_list]  \n",
    "    X_tst = test_set[feature_list]\n",
    "    \n",
    "    X_train_std = scaler.fit_transform(X_trn)\n",
    "    X_test_std = scaler.transform(X_tst)\n",
    "    return(X_train_std, X_test_std)"
   ]
  },
  {
   "cell_type": "markdown",
   "metadata": {},
   "source": [
    "### ESTABLISH BASE"
   ]
  },
  {
   "cell_type": "code",
   "execution_count": null,
   "metadata": {},
   "outputs": [],
   "source": [
    "# create a dataframe to keep track of all scores\n",
    "model_results = pd.DataFrame(columns=['model','test_accuracy'])\n",
    "\n",
    "def fill_in_res(model_name, test_accuracy):\n",
    "    model_results.loc[len(model_results)]=[model_name,round(test_accuracy,3)] \n",
    "    return(model_results)"
   ]
  },
  {
   "cell_type": "code",
   "execution_count": null,
   "metadata": {},
   "outputs": [],
   "source": [
    "fill_in_res('Baseline', 0.537)"
   ]
  },
  {
   "cell_type": "code",
   "execution_count": null,
   "metadata": {},
   "outputs": [],
   "source": []
  },
  {
   "cell_type": "code",
   "execution_count": null,
   "metadata": {},
   "outputs": [],
   "source": []
  }
 ],
 "metadata": {
  "kernelspec": {
   "display_name": "Python 3",
   "language": "python",
   "name": "python3"
  },
  "language_info": {
   "codemirror_mode": {
    "name": "ipython",
    "version": 3
   },
   "file_extension": ".py",
   "mimetype": "text/x-python",
   "name": "python",
   "nbconvert_exporter": "python",
   "pygments_lexer": "ipython3",
   "version": "3.7.6"
  }
 },
 "nbformat": 4,
 "nbformat_minor": 2
}
